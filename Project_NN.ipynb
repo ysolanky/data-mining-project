{
 "cells": [
  {
   "cell_type": "markdown",
   "metadata": {},
   "source": [
    "# Data mining project - ysolanky\n"
   ]
  },
  {
   "cell_type": "markdown",
   "metadata": {},
   "source": [
    "## Implementation of ANN using Keras"
   ]
  },
  {
   "cell_type": "code",
   "execution_count": 1,
   "metadata": {},
   "outputs": [],
   "source": [
    "import pandas as pd\n",
    "import re\n",
    "from nltk.corpus import stopwords\n",
    "import numpy as np"
   ]
  },
  {
   "cell_type": "code",
   "execution_count": 3,
   "metadata": {},
   "outputs": [
    {
     "name": "stderr",
     "output_type": "stream",
     "text": [
      "C:\\Users\\yashp\\anaconda3\\lib\\site-packages\\IPython\\core\\interactiveshell.py:3071: DtypeWarning: Columns (4,5,6,11,16) have mixed types.Specify dtype option on import or set low_memory=False.\n",
      "  has_raised = await self.run_ast_nodes(code_ast.body, cell_name,\n"
     ]
    }
   ],
   "source": [
    "df = pd.read_csv(\"dataset.csv\")"
   ]
  },
  {
   "cell_type": "code",
   "execution_count": 4,
   "metadata": {},
   "outputs": [
    {
     "data": {
      "text/html": [
       "<div>\n",
       "<style scoped>\n",
       "    .dataframe tbody tr th:only-of-type {\n",
       "        vertical-align: middle;\n",
       "    }\n",
       "\n",
       "    .dataframe tbody tr th {\n",
       "        vertical-align: top;\n",
       "    }\n",
       "\n",
       "    .dataframe thead th {\n",
       "        text-align: right;\n",
       "    }\n",
       "</style>\n",
       "<table border=\"1\" class=\"dataframe\">\n",
       "  <thead>\n",
       "    <tr style=\"text-align: right;\">\n",
       "      <th></th>\n",
       "      <th>Date received</th>\n",
       "      <th>Product</th>\n",
       "      <th>Sub-product</th>\n",
       "      <th>Issue</th>\n",
       "      <th>Sub-issue</th>\n",
       "      <th>Consumer complaint narrative</th>\n",
       "      <th>Company public response</th>\n",
       "      <th>Company</th>\n",
       "      <th>State</th>\n",
       "      <th>ZIP code</th>\n",
       "      <th>Tags</th>\n",
       "      <th>Consumer consent provided?</th>\n",
       "      <th>Submitted via</th>\n",
       "      <th>Date sent to company</th>\n",
       "      <th>Company response to consumer</th>\n",
       "      <th>Timely response?</th>\n",
       "      <th>Consumer disputed?</th>\n",
       "      <th>Complaint ID</th>\n",
       "    </tr>\n",
       "  </thead>\n",
       "  <tbody>\n",
       "    <tr>\n",
       "      <th>0</th>\n",
       "      <td>05/10/2019</td>\n",
       "      <td>Checking or savings account</td>\n",
       "      <td>Checking account</td>\n",
       "      <td>Managing an account</td>\n",
       "      <td>Problem using a debit or ATM card</td>\n",
       "      <td>NaN</td>\n",
       "      <td>NaN</td>\n",
       "      <td>NAVY FEDERAL CREDIT UNION</td>\n",
       "      <td>FL</td>\n",
       "      <td>328XX</td>\n",
       "      <td>Older American</td>\n",
       "      <td>NaN</td>\n",
       "      <td>Web</td>\n",
       "      <td>05/10/2019</td>\n",
       "      <td>In progress</td>\n",
       "      <td>Yes</td>\n",
       "      <td>NaN</td>\n",
       "      <td>3238275</td>\n",
       "    </tr>\n",
       "    <tr>\n",
       "      <th>1</th>\n",
       "      <td>05/10/2019</td>\n",
       "      <td>Checking or savings account</td>\n",
       "      <td>Other banking product or service</td>\n",
       "      <td>Managing an account</td>\n",
       "      <td>Deposits and withdrawals</td>\n",
       "      <td>NaN</td>\n",
       "      <td>NaN</td>\n",
       "      <td>BOEING EMPLOYEES CREDIT UNION</td>\n",
       "      <td>WA</td>\n",
       "      <td>98204</td>\n",
       "      <td>NaN</td>\n",
       "      <td>NaN</td>\n",
       "      <td>Referral</td>\n",
       "      <td>05/10/2019</td>\n",
       "      <td>Closed with explanation</td>\n",
       "      <td>Yes</td>\n",
       "      <td>NaN</td>\n",
       "      <td>3238228</td>\n",
       "    </tr>\n",
       "    <tr>\n",
       "      <th>2</th>\n",
       "      <td>05/10/2019</td>\n",
       "      <td>Debt collection</td>\n",
       "      <td>Payday loan debt</td>\n",
       "      <td>Communication tactics</td>\n",
       "      <td>Frequent or repeated calls</td>\n",
       "      <td>NaN</td>\n",
       "      <td>NaN</td>\n",
       "      <td>CURO Intermediate Holdings</td>\n",
       "      <td>TX</td>\n",
       "      <td>751XX</td>\n",
       "      <td>NaN</td>\n",
       "      <td>NaN</td>\n",
       "      <td>Web</td>\n",
       "      <td>05/10/2019</td>\n",
       "      <td>Closed with explanation</td>\n",
       "      <td>Yes</td>\n",
       "      <td>NaN</td>\n",
       "      <td>3237964</td>\n",
       "    </tr>\n",
       "    <tr>\n",
       "      <th>3</th>\n",
       "      <td>05/10/2019</td>\n",
       "      <td>Credit reporting, credit repair services, or o...</td>\n",
       "      <td>Credit reporting</td>\n",
       "      <td>Incorrect information on your report</td>\n",
       "      <td>Old information reappears or never goes away</td>\n",
       "      <td>NaN</td>\n",
       "      <td>NaN</td>\n",
       "      <td>Ad Astra Recovery Services Inc</td>\n",
       "      <td>LA</td>\n",
       "      <td>708XX</td>\n",
       "      <td>NaN</td>\n",
       "      <td>NaN</td>\n",
       "      <td>Web</td>\n",
       "      <td>05/10/2019</td>\n",
       "      <td>Closed with explanation</td>\n",
       "      <td>Yes</td>\n",
       "      <td>NaN</td>\n",
       "      <td>3238479</td>\n",
       "    </tr>\n",
       "    <tr>\n",
       "      <th>4</th>\n",
       "      <td>05/10/2019</td>\n",
       "      <td>Checking or savings account</td>\n",
       "      <td>Checking account</td>\n",
       "      <td>Managing an account</td>\n",
       "      <td>Banking errors</td>\n",
       "      <td>NaN</td>\n",
       "      <td>NaN</td>\n",
       "      <td>ALLY FINANCIAL INC.</td>\n",
       "      <td>AZ</td>\n",
       "      <td>85205</td>\n",
       "      <td>NaN</td>\n",
       "      <td>NaN</td>\n",
       "      <td>Postal mail</td>\n",
       "      <td>05/10/2019</td>\n",
       "      <td>In progress</td>\n",
       "      <td>Yes</td>\n",
       "      <td>NaN</td>\n",
       "      <td>3238460</td>\n",
       "    </tr>\n",
       "  </tbody>\n",
       "</table>\n",
       "</div>"
      ],
      "text/plain": [
       "  Date received                                            Product  \\\n",
       "0    05/10/2019                        Checking or savings account   \n",
       "1    05/10/2019                        Checking or savings account   \n",
       "2    05/10/2019                                    Debt collection   \n",
       "3    05/10/2019  Credit reporting, credit repair services, or o...   \n",
       "4    05/10/2019                        Checking or savings account   \n",
       "\n",
       "                        Sub-product                                 Issue  \\\n",
       "0                  Checking account                   Managing an account   \n",
       "1  Other banking product or service                   Managing an account   \n",
       "2                  Payday loan debt                 Communication tactics   \n",
       "3                  Credit reporting  Incorrect information on your report   \n",
       "4                  Checking account                   Managing an account   \n",
       "\n",
       "                                      Sub-issue Consumer complaint narrative  \\\n",
       "0             Problem using a debit or ATM card                          NaN   \n",
       "1                      Deposits and withdrawals                          NaN   \n",
       "2                    Frequent or repeated calls                          NaN   \n",
       "3  Old information reappears or never goes away                          NaN   \n",
       "4                                Banking errors                          NaN   \n",
       "\n",
       "  Company public response                         Company State ZIP code  \\\n",
       "0                     NaN       NAVY FEDERAL CREDIT UNION    FL    328XX   \n",
       "1                     NaN   BOEING EMPLOYEES CREDIT UNION    WA    98204   \n",
       "2                     NaN      CURO Intermediate Holdings    TX    751XX   \n",
       "3                     NaN  Ad Astra Recovery Services Inc    LA    708XX   \n",
       "4                     NaN             ALLY FINANCIAL INC.    AZ    85205   \n",
       "\n",
       "             Tags Consumer consent provided? Submitted via  \\\n",
       "0  Older American                        NaN           Web   \n",
       "1             NaN                        NaN      Referral   \n",
       "2             NaN                        NaN           Web   \n",
       "3             NaN                        NaN           Web   \n",
       "4             NaN                        NaN   Postal mail   \n",
       "\n",
       "  Date sent to company Company response to consumer Timely response?  \\\n",
       "0           05/10/2019                  In progress              Yes   \n",
       "1           05/10/2019      Closed with explanation              Yes   \n",
       "2           05/10/2019      Closed with explanation              Yes   \n",
       "3           05/10/2019      Closed with explanation              Yes   \n",
       "4           05/10/2019                  In progress              Yes   \n",
       "\n",
       "  Consumer disputed?  Complaint ID  \n",
       "0                NaN       3238275  \n",
       "1                NaN       3238228  \n",
       "2                NaN       3237964  \n",
       "3                NaN       3238479  \n",
       "4                NaN       3238460  "
      ]
     },
     "execution_count": 4,
     "metadata": {},
     "output_type": "execute_result"
    }
   ],
   "source": [
    "df.head()"
   ]
  },
  {
   "cell_type": "code",
   "execution_count": 5,
   "metadata": {},
   "outputs": [],
   "source": [
    "df = df[df[\"Consumer complaint narrative\"].notnull()]\n",
    "#Removing the null rows"
   ]
  },
  {
   "cell_type": "code",
   "execution_count": 6,
   "metadata": {},
   "outputs": [],
   "source": [
    "df = df[[\"Issue\",\"Consumer complaint narrative\"]]"
   ]
  },
  {
   "cell_type": "code",
   "execution_count": 2,
   "metadata": {},
   "outputs": [],
   "source": [
    "# Removing everthing besides the X and Y from the dataset"
   ]
  },
  {
   "cell_type": "code",
   "execution_count": 7,
   "metadata": {},
   "outputs": [
    {
     "data": {
      "text/html": [
       "<div>\n",
       "<style scoped>\n",
       "    .dataframe tbody tr th:only-of-type {\n",
       "        vertical-align: middle;\n",
       "    }\n",
       "\n",
       "    .dataframe tbody tr th {\n",
       "        vertical-align: top;\n",
       "    }\n",
       "\n",
       "    .dataframe thead th {\n",
       "        text-align: right;\n",
       "    }\n",
       "</style>\n",
       "<table border=\"1\" class=\"dataframe\">\n",
       "  <thead>\n",
       "    <tr style=\"text-align: right;\">\n",
       "      <th></th>\n",
       "      <th>Issue</th>\n",
       "      <th>Consumer complaint narrative</th>\n",
       "    </tr>\n",
       "  </thead>\n",
       "  <tbody>\n",
       "    <tr>\n",
       "      <th>29904</th>\n",
       "      <td>Incorrect information on your report</td>\n",
       "      <td>The Summer of XX/XX/2018 I was denied a mortga...</td>\n",
       "    </tr>\n",
       "    <tr>\n",
       "      <th>30629</th>\n",
       "      <td>Incorrect information on your report</td>\n",
       "      <td>There are many mistakes appear in my report wi...</td>\n",
       "    </tr>\n",
       "    <tr>\n",
       "      <th>30735</th>\n",
       "      <td>Incorrect information on your report</td>\n",
       "      <td>There are many mistakes appear in my report wi...</td>\n",
       "    </tr>\n",
       "    <tr>\n",
       "      <th>30795</th>\n",
       "      <td>Incorrect information on your report</td>\n",
       "      <td>There are many mistakes appear in my report wi...</td>\n",
       "    </tr>\n",
       "    <tr>\n",
       "      <th>30807</th>\n",
       "      <td>Incorrect information on your report</td>\n",
       "      <td>There are many mistakes appear in my report wi...</td>\n",
       "    </tr>\n",
       "    <tr>\n",
       "      <th>...</th>\n",
       "      <td>...</td>\n",
       "      <td>...</td>\n",
       "    </tr>\n",
       "    <tr>\n",
       "      <th>912543</th>\n",
       "      <td>Other</td>\n",
       "      <td>Mel S. Harris &amp; assoc. used deceptive collecti...</td>\n",
       "    </tr>\n",
       "    <tr>\n",
       "      <th>912546</th>\n",
       "      <td>Disclosure verification of debt</td>\n",
       "      <td>Portfolio Recovery has been reporting a collec...</td>\n",
       "    </tr>\n",
       "    <tr>\n",
       "      <th>912550</th>\n",
       "      <td>Charged fees or interest I didn't expect</td>\n",
       "      <td>I KEEP RECEIVING PHONE CALLS FRON NORTHEAST RE...</td>\n",
       "    </tr>\n",
       "    <tr>\n",
       "      <th>912552</th>\n",
       "      <td>Incorrect information on credit report</td>\n",
       "      <td>account reported as discharged through bankrup...</td>\n",
       "    </tr>\n",
       "    <tr>\n",
       "      <th>912553</th>\n",
       "      <td>Loan servicing, payments, escrow account</td>\n",
       "      <td>I currently have a mortgage with Flag star ban...</td>\n",
       "    </tr>\n",
       "  </tbody>\n",
       "</table>\n",
       "<p>383564 rows × 2 columns</p>\n",
       "</div>"
      ],
      "text/plain": [
       "                                           Issue  \\\n",
       "29904       Incorrect information on your report   \n",
       "30629       Incorrect information on your report   \n",
       "30735       Incorrect information on your report   \n",
       "30795       Incorrect information on your report   \n",
       "30807       Incorrect information on your report   \n",
       "...                                          ...   \n",
       "912543                                     Other   \n",
       "912546           Disclosure verification of debt   \n",
       "912550  Charged fees or interest I didn't expect   \n",
       "912552    Incorrect information on credit report   \n",
       "912553  Loan servicing, payments, escrow account   \n",
       "\n",
       "                             Consumer complaint narrative  \n",
       "29904   The Summer of XX/XX/2018 I was denied a mortga...  \n",
       "30629   There are many mistakes appear in my report wi...  \n",
       "30735   There are many mistakes appear in my report wi...  \n",
       "30795   There are many mistakes appear in my report wi...  \n",
       "30807   There are many mistakes appear in my report wi...  \n",
       "...                                                   ...  \n",
       "912543  Mel S. Harris & assoc. used deceptive collecti...  \n",
       "912546  Portfolio Recovery has been reporting a collec...  \n",
       "912550  I KEEP RECEIVING PHONE CALLS FRON NORTHEAST RE...  \n",
       "912552  account reported as discharged through bankrup...  \n",
       "912553  I currently have a mortgage with Flag star ban...  \n",
       "\n",
       "[383564 rows x 2 columns]"
      ]
     },
     "execution_count": 7,
     "metadata": {},
     "output_type": "execute_result"
    }
   ],
   "source": [
    "df"
   ]
  },
  {
   "cell_type": "code",
   "execution_count": 8,
   "metadata": {},
   "outputs": [],
   "source": [
    "df = df.reset_index(drop=True)"
   ]
  },
  {
   "cell_type": "code",
   "execution_count": 3,
   "metadata": {},
   "outputs": [],
   "source": [
    "# These fucntions perform pre processing on the Consumer complaint narrative column\n",
    "\n",
    "def remove_non_string(x):\n",
    "    t1=re.sub('[^A-Za-z\\s]+', '',x)\n",
    "    t2=re.sub('x{2,20}', '',t1)\n",
    "    return (t2)\n",
    "\n",
    "def rem_stop(x):\n",
    "    to_remove = stopwords.words(\"english\")\n",
    "    y = ' '.join([sw for sw in x.split() if sw not in to_remove])\n",
    "    return(y)\n",
    "\n",
    "# def pre_process(dataframe):\n",
    "#     for_analysis_t1=dataframe.copy()\n",
    "#     for_analysis_t2=for_analysis_t1.loc[for_analysis_t1['commentBody'].notnull()].copy()\n",
    "#     for_analysis_t2['commentBody']=for_analysis_t2['commentBody'].str.lower()\n",
    "#     for_analysis_t2['commentBody_']=for_analysis_t2['commentBody'].apply(remove_non_string)\n",
    "#     for_analysis_t2['commentBody_']=for_analysis_t2['commentBody_'].apply(rem_stop)\n",
    "#     dataframe[\"commentBody_\"] = for_analysis_t2['commentBody_']\n",
    "#     dataframe.drop([\"commentBody\"],axis = 1,inplace = True)\n",
    "#     dataframe.rename(columns = {\"commentBody_\":\"commentBody\"},inplace = True)\n",
    "    \n",
    "def pre_process(dataframe):\n",
    "    #dataframe = dataframe.loc[dataframe['commentBody'].notnull()]\n",
    "    dataframe['Consumer complaint narrative']= dataframe['Consumer complaint narrative'].str.lower()\n",
    "    dataframe['Consumer complaint narrative']= dataframe['Consumer complaint narrative'].apply(remove_non_string)\n",
    "    dataframe['Consumer complaint narrative']= dataframe['Consumer complaint narrative'].apply(rem_stop)"
   ]
  },
  {
   "cell_type": "code",
   "execution_count": 10,
   "metadata": {},
   "outputs": [
    {
     "data": {
      "text/html": [
       "<div>\n",
       "<style scoped>\n",
       "    .dataframe tbody tr th:only-of-type {\n",
       "        vertical-align: middle;\n",
       "    }\n",
       "\n",
       "    .dataframe tbody tr th {\n",
       "        vertical-align: top;\n",
       "    }\n",
       "\n",
       "    .dataframe thead th {\n",
       "        text-align: right;\n",
       "    }\n",
       "</style>\n",
       "<table border=\"1\" class=\"dataframe\">\n",
       "  <thead>\n",
       "    <tr style=\"text-align: right;\">\n",
       "      <th></th>\n",
       "      <th>Issue</th>\n",
       "      <th>Consumer complaint narrative</th>\n",
       "    </tr>\n",
       "  </thead>\n",
       "  <tbody>\n",
       "    <tr>\n",
       "      <th>383559</th>\n",
       "      <td>Other</td>\n",
       "      <td>Mel S. Harris &amp; assoc. used deceptive collecti...</td>\n",
       "    </tr>\n",
       "    <tr>\n",
       "      <th>383560</th>\n",
       "      <td>Disclosure verification of debt</td>\n",
       "      <td>Portfolio Recovery has been reporting a collec...</td>\n",
       "    </tr>\n",
       "    <tr>\n",
       "      <th>383561</th>\n",
       "      <td>Charged fees or interest I didn't expect</td>\n",
       "      <td>I KEEP RECEIVING PHONE CALLS FRON NORTHEAST RE...</td>\n",
       "    </tr>\n",
       "    <tr>\n",
       "      <th>383562</th>\n",
       "      <td>Incorrect information on credit report</td>\n",
       "      <td>account reported as discharged through bankrup...</td>\n",
       "    </tr>\n",
       "    <tr>\n",
       "      <th>383563</th>\n",
       "      <td>Loan servicing, payments, escrow account</td>\n",
       "      <td>I currently have a mortgage with Flag star ban...</td>\n",
       "    </tr>\n",
       "  </tbody>\n",
       "</table>\n",
       "</div>"
      ],
      "text/plain": [
       "                                           Issue  \\\n",
       "383559                                     Other   \n",
       "383560           Disclosure verification of debt   \n",
       "383561  Charged fees or interest I didn't expect   \n",
       "383562    Incorrect information on credit report   \n",
       "383563  Loan servicing, payments, escrow account   \n",
       "\n",
       "                             Consumer complaint narrative  \n",
       "383559  Mel S. Harris & assoc. used deceptive collecti...  \n",
       "383560  Portfolio Recovery has been reporting a collec...  \n",
       "383561  I KEEP RECEIVING PHONE CALLS FRON NORTHEAST RE...  \n",
       "383562  account reported as discharged through bankrup...  \n",
       "383563  I currently have a mortgage with Flag star ban...  "
      ]
     },
     "execution_count": 10,
     "metadata": {},
     "output_type": "execute_result"
    }
   ],
   "source": [
    "df.tail()"
   ]
  },
  {
   "cell_type": "code",
   "execution_count": 11,
   "metadata": {},
   "outputs": [
    {
     "data": {
      "text/plain": [
       "Incorrect information on your report                                                48773\n",
       "Problem with a credit reporting company's investigation into an existing problem    24727\n",
       "Incorrect information on credit report                                              21217\n",
       "Attempts to collect debt not owed                                                   19845\n",
       "Cont'd attempts collect debt not owed                                               17435\n",
       "                                                                                    ...  \n",
       "Lender sold the property                                                                3\n",
       "Lender damaged or destroyed vehicle                                                     2\n",
       "Property was damaged or destroyed property                                              2\n",
       "Lender damaged or destroyed property                                                    1\n",
       "Problem with an overdraft                                                               1\n",
       "Name: Issue, Length: 161, dtype: int64"
      ]
     },
     "execution_count": 11,
     "metadata": {},
     "output_type": "execute_result"
    }
   ],
   "source": [
    "df[\"Issue\"].value_counts()"
   ]
  },
  {
   "cell_type": "code",
   "execution_count": 12,
   "metadata": {},
   "outputs": [
    {
     "data": {
      "text/plain": [
       "<bound method NDFrame.describe of                                            Issue  \\\n",
       "0           Incorrect information on your report   \n",
       "1           Incorrect information on your report   \n",
       "2           Incorrect information on your report   \n",
       "3           Incorrect information on your report   \n",
       "4           Incorrect information on your report   \n",
       "...                                          ...   \n",
       "383559                                     Other   \n",
       "383560           Disclosure verification of debt   \n",
       "383561  Charged fees or interest I didn't expect   \n",
       "383562    Incorrect information on credit report   \n",
       "383563  Loan servicing, payments, escrow account   \n",
       "\n",
       "                             Consumer complaint narrative  \n",
       "0       The Summer of XX/XX/2018 I was denied a mortga...  \n",
       "1       There are many mistakes appear in my report wi...  \n",
       "2       There are many mistakes appear in my report wi...  \n",
       "3       There are many mistakes appear in my report wi...  \n",
       "4       There are many mistakes appear in my report wi...  \n",
       "...                                                   ...  \n",
       "383559  Mel S. Harris & assoc. used deceptive collecti...  \n",
       "383560  Portfolio Recovery has been reporting a collec...  \n",
       "383561  I KEEP RECEIVING PHONE CALLS FRON NORTHEAST RE...  \n",
       "383562  account reported as discharged through bankrup...  \n",
       "383563  I currently have a mortgage with Flag star ban...  \n",
       "\n",
       "[383564 rows x 2 columns]>"
      ]
     },
     "execution_count": 12,
     "metadata": {},
     "output_type": "execute_result"
    }
   ],
   "source": [
    "df.describe"
   ]
  },
  {
   "cell_type": "code",
   "execution_count": 13,
   "metadata": {},
   "outputs": [
    {
     "data": {
      "text/html": [
       "<div>\n",
       "<style scoped>\n",
       "    .dataframe tbody tr th:only-of-type {\n",
       "        vertical-align: middle;\n",
       "    }\n",
       "\n",
       "    .dataframe tbody tr th {\n",
       "        vertical-align: top;\n",
       "    }\n",
       "\n",
       "    .dataframe thead tr th {\n",
       "        text-align: left;\n",
       "    }\n",
       "\n",
       "    .dataframe thead tr:last-of-type th {\n",
       "        text-align: right;\n",
       "    }\n",
       "</style>\n",
       "<table border=\"1\" class=\"dataframe\">\n",
       "  <thead>\n",
       "    <tr>\n",
       "      <th></th>\n",
       "      <th colspan=\"4\" halign=\"left\">Consumer complaint narrative</th>\n",
       "    </tr>\n",
       "    <tr>\n",
       "      <th></th>\n",
       "      <th>count</th>\n",
       "      <th>unique</th>\n",
       "      <th>top</th>\n",
       "      <th>freq</th>\n",
       "    </tr>\n",
       "    <tr>\n",
       "      <th>Issue</th>\n",
       "      <th></th>\n",
       "      <th></th>\n",
       "      <th></th>\n",
       "      <th></th>\n",
       "    </tr>\n",
       "  </thead>\n",
       "  <tbody>\n",
       "    <tr>\n",
       "      <th>APR or interest rate</th>\n",
       "      <td>785</td>\n",
       "      <td>785</td>\n",
       "      <td>Recently, American express increased ( XXXX ) ...</td>\n",
       "      <td>1</td>\n",
       "    </tr>\n",
       "    <tr>\n",
       "      <th>Account opening, closing, or management</th>\n",
       "      <td>6347</td>\n",
       "      <td>6331</td>\n",
       "      <td>On at least XXXX previous occasions, I request...</td>\n",
       "      <td>4</td>\n",
       "    </tr>\n",
       "    <tr>\n",
       "      <th>Account terms and changes</th>\n",
       "      <td>17</td>\n",
       "      <td>17</td>\n",
       "      <td>CNAC car creditor keeps updating status on my ...</td>\n",
       "      <td>1</td>\n",
       "    </tr>\n",
       "    <tr>\n",
       "      <th>Adding money</th>\n",
       "      <td>92</td>\n",
       "      <td>92</td>\n",
       "      <td>I loaded XXXX dollars to my prepaid rush card ...</td>\n",
       "      <td>1</td>\n",
       "    </tr>\n",
       "    <tr>\n",
       "      <th>Advertising</th>\n",
       "      <td>47</td>\n",
       "      <td>47</td>\n",
       "      <td>Dear Expert Researchers in these kinds of case...</td>\n",
       "      <td>1</td>\n",
       "    </tr>\n",
       "    <tr>\n",
       "      <th>...</th>\n",
       "      <td>...</td>\n",
       "      <td>...</td>\n",
       "      <td>...</td>\n",
       "      <td>...</td>\n",
       "    </tr>\n",
       "    <tr>\n",
       "      <th>Vehicle was repossessed or sold the vehicle</th>\n",
       "      <td>72</td>\n",
       "      <td>72</td>\n",
       "      <td>Last month I spoke to a representative from th...</td>\n",
       "      <td>1</td>\n",
       "    </tr>\n",
       "    <tr>\n",
       "      <th>Was approved for a loan, but didn't receive money</th>\n",
       "      <td>8</td>\n",
       "      <td>8</td>\n",
       "      <td>Will first of all I tryed getting a loans but ...</td>\n",
       "      <td>1</td>\n",
       "    </tr>\n",
       "    <tr>\n",
       "      <th>Was approved for a loan, but didn't receive the money</th>\n",
       "      <td>48</td>\n",
       "      <td>48</td>\n",
       "      <td>XXXX   XXXX    some guy  XXXX   call  ask for ...</td>\n",
       "      <td>1</td>\n",
       "    </tr>\n",
       "    <tr>\n",
       "      <th>Written notification about debt</th>\n",
       "      <td>8976</td>\n",
       "      <td>8546</td>\n",
       "      <td>Capital One has violated 15 USC 1692 by contin...</td>\n",
       "      <td>31</td>\n",
       "    </tr>\n",
       "    <tr>\n",
       "      <th>Wrong amount charged or received</th>\n",
       "      <td>210</td>\n",
       "      <td>210</td>\n",
       "      <td>Paypal does not disclose that it charges fees ...</td>\n",
       "      <td>1</td>\n",
       "    </tr>\n",
       "  </tbody>\n",
       "</table>\n",
       "<p>161 rows × 4 columns</p>\n",
       "</div>"
      ],
      "text/plain": [
       "                                                   Consumer complaint narrative  \\\n",
       "                                                                          count   \n",
       "Issue                                                                             \n",
       "APR or interest rate                                                        785   \n",
       "Account opening, closing, or management                                    6347   \n",
       "Account terms and changes                                                    17   \n",
       "Adding money                                                                 92   \n",
       "Advertising                                                                  47   \n",
       "...                                                                         ...   \n",
       "Vehicle was repossessed or sold the vehicle                                  72   \n",
       "Was approved for a loan, but didn't receive money                             8   \n",
       "Was approved for a loan, but didn't receive the...                           48   \n",
       "Written notification about debt                                            8976   \n",
       "Wrong amount charged or received                                            210   \n",
       "\n",
       "                                                           \\\n",
       "                                                   unique   \n",
       "Issue                                                       \n",
       "APR or interest rate                                  785   \n",
       "Account opening, closing, or management              6331   \n",
       "Account terms and changes                              17   \n",
       "Adding money                                           92   \n",
       "Advertising                                            47   \n",
       "...                                                   ...   \n",
       "Vehicle was repossessed or sold the vehicle            72   \n",
       "Was approved for a loan, but didn't receive money       8   \n",
       "Was approved for a loan, but didn't receive the...     48   \n",
       "Written notification about debt                      8546   \n",
       "Wrong amount charged or received                      210   \n",
       "\n",
       "                                                                                                       \\\n",
       "                                                                                                  top   \n",
       "Issue                                                                                                   \n",
       "APR or interest rate                                Recently, American express increased ( XXXX ) ...   \n",
       "Account opening, closing, or management             On at least XXXX previous occasions, I request...   \n",
       "Account terms and changes                           CNAC car creditor keeps updating status on my ...   \n",
       "Adding money                                        I loaded XXXX dollars to my prepaid rush card ...   \n",
       "Advertising                                         Dear Expert Researchers in these kinds of case...   \n",
       "...                                                                                               ...   \n",
       "Vehicle was repossessed or sold the vehicle         Last month I spoke to a representative from th...   \n",
       "Was approved for a loan, but didn't receive money   Will first of all I tryed getting a loans but ...   \n",
       "Was approved for a loan, but didn't receive the...  XXXX   XXXX    some guy  XXXX   call  ask for ...   \n",
       "Written notification about debt                     Capital One has violated 15 USC 1692 by contin...   \n",
       "Wrong amount charged or received                    Paypal does not disclose that it charges fees ...   \n",
       "\n",
       "                                                         \n",
       "                                                   freq  \n",
       "Issue                                                    \n",
       "APR or interest rate                                  1  \n",
       "Account opening, closing, or management               4  \n",
       "Account terms and changes                             1  \n",
       "Adding money                                          1  \n",
       "Advertising                                           1  \n",
       "...                                                 ...  \n",
       "Vehicle was repossessed or sold the vehicle           1  \n",
       "Was approved for a loan, but didn't receive money     1  \n",
       "Was approved for a loan, but didn't receive the...    1  \n",
       "Written notification about debt                      31  \n",
       "Wrong amount charged or received                      1  \n",
       "\n",
       "[161 rows x 4 columns]"
      ]
     },
     "execution_count": 13,
     "metadata": {},
     "output_type": "execute_result"
    }
   ],
   "source": [
    "a = df.groupby([\"Issue\"])\n",
    "len(a)\n",
    "a.describe()"
   ]
  },
  {
   "cell_type": "code",
   "execution_count": 14,
   "metadata": {},
   "outputs": [],
   "source": [
    "df = a.filter(lambda x: len(x) > 10000)"
   ]
  },
  {
   "cell_type": "code",
   "execution_count": 4,
   "metadata": {},
   "outputs": [],
   "source": [
    "# As 161 is a lot of issues with most of them barely having any data, we opted to remove Issues with less tahn 10,000 occurences"
   ]
  },
  {
   "cell_type": "code",
   "execution_count": 15,
   "metadata": {},
   "outputs": [
    {
     "data": {
      "text/plain": [
       "array(['Incorrect information on your report',\n",
       "       \"Problem with a credit reporting company's investigation into an existing problem\",\n",
       "       'Attempts to collect debt not owed', 'Improper use of your report',\n",
       "       'Communication tactics', 'Incorrect information on credit report',\n",
       "       'Loan servicing, payments, escrow account',\n",
       "       'Loan modification,collection,foreclosure',\n",
       "       \"Cont'd attempts collect debt not owed\"], dtype=object)"
      ]
     },
     "execution_count": 15,
     "metadata": {},
     "output_type": "execute_result"
    }
   ],
   "source": [
    "df[\"Issue\"].unique()"
   ]
  },
  {
   "cell_type": "code",
   "execution_count": 16,
   "metadata": {},
   "outputs": [],
   "source": [
    "pre_process(df)"
   ]
  },
  {
   "cell_type": "code",
   "execution_count": 17,
   "metadata": {},
   "outputs": [],
   "source": [
    "from tensorflow.keras import layers\n",
    "from tensorflow import keras\n",
    "import tensorflow as tf\n",
    "\n",
    "from sklearn.model_selection import train_test_split\n",
    "from ast import literal_eval\n",
    "\n",
    "import matplotlib.pyplot as plt\n",
    "import pandas as pd\n",
    "import numpy as np"
   ]
  },
  {
   "cell_type": "code",
   "execution_count": 5,
   "metadata": {},
   "outputs": [],
   "source": [
    "# We split the entire dataset into training, testing and validation"
   ]
  },
  {
   "cell_type": "code",
   "execution_count": 18,
   "metadata": {},
   "outputs": [
    {
     "name": "stdout",
     "output_type": "stream",
     "text": [
      "Number of rows in training set: 165914\n",
      "Number of rows in validation set: 9218\n",
      "Number of rows in test set: 9217\n"
     ]
    },
    {
     "name": "stderr",
     "output_type": "stream",
     "text": [
      "C:\\Users\\yashp\\anaconda3\\lib\\site-packages\\pandas\\core\\frame.py:3990: SettingWithCopyWarning: \n",
      "A value is trying to be set on a copy of a slice from a DataFrame\n",
      "\n",
      "See the caveats in the documentation: https://pandas.pydata.org/pandas-docs/stable/user_guide/indexing.html#returning-a-view-versus-a-copy\n",
      "  return super().drop(\n"
     ]
    }
   ],
   "source": [
    "test_split = 0.1\n",
    "\n",
    "# Initial train and test split.\n",
    "train_df, test_df = train_test_split(df,test_size=test_split,stratify=df[\"Issue\"].values)\n",
    "\n",
    "\n",
    "# Splitting the test set further into validation\n",
    "# and new test sets.\n",
    "val_df = test_df.sample(frac=0.5)\n",
    "test_df.drop(val_df.index, inplace=True)\n",
    "\n",
    "print(f\"Number of rows in training set: {len(train_df)}\")\n",
    "print(f\"Number of rows in validation set: {len(val_df)}\")\n",
    "print(f\"Number of rows in test set: {len(test_df)}\")"
   ]
  },
  {
   "cell_type": "code",
   "execution_count": 19,
   "metadata": {},
   "outputs": [
    {
     "data": {
      "text/html": [
       "<div>\n",
       "<style scoped>\n",
       "    .dataframe tbody tr th:only-of-type {\n",
       "        vertical-align: middle;\n",
       "    }\n",
       "\n",
       "    .dataframe tbody tr th {\n",
       "        vertical-align: top;\n",
       "    }\n",
       "\n",
       "    .dataframe thead th {\n",
       "        text-align: right;\n",
       "    }\n",
       "</style>\n",
       "<table border=\"1\" class=\"dataframe\">\n",
       "  <thead>\n",
       "    <tr style=\"text-align: right;\">\n",
       "      <th></th>\n",
       "      <th>Issue</th>\n",
       "      <th>Consumer complaint narrative</th>\n",
       "    </tr>\n",
       "  </thead>\n",
       "  <tbody>\n",
       "    <tr>\n",
       "      <th>261169</th>\n",
       "      <td>Cont'd attempts collect debt not owed</td>\n",
       "      <td>synchrony collector ge capital harassing via h...</td>\n",
       "    </tr>\n",
       "    <tr>\n",
       "      <th>301378</th>\n",
       "      <td>Communication tactics</td>\n",
       "      <td>portfolio recovery associates knowingly report...</td>\n",
       "    </tr>\n",
       "    <tr>\n",
       "      <th>117759</th>\n",
       "      <td>Incorrect information on your report</td>\n",
       "      <td>reporting authorized user account acccount bel...</td>\n",
       "    </tr>\n",
       "    <tr>\n",
       "      <th>117694</th>\n",
       "      <td>Incorrect information on your report</td>\n",
       "      <td>purchased new fraudulent sales tactics messed ...</td>\n",
       "    </tr>\n",
       "    <tr>\n",
       "      <th>123345</th>\n",
       "      <td>Problem with a credit reporting company's inve...</td>\n",
       "      <td>credit reporting outlet get information credit...</td>\n",
       "    </tr>\n",
       "    <tr>\n",
       "      <th>...</th>\n",
       "      <td>...</td>\n",
       "      <td>...</td>\n",
       "    </tr>\n",
       "    <tr>\n",
       "      <th>122464</th>\n",
       "      <td>Communication tactics</td>\n",
       "      <td>calling workplace everyday days week months ph...</td>\n",
       "    </tr>\n",
       "    <tr>\n",
       "      <th>178959</th>\n",
       "      <td>Incorrect information on your report</td>\n",
       "      <td>years ago mother contacted chase bank ask auth...</td>\n",
       "    </tr>\n",
       "    <tr>\n",
       "      <th>345068</th>\n",
       "      <td>Loan modification,collection,foreclosure</td>\n",
       "      <td>hereby dispute reply suntrust complaint way cf...</td>\n",
       "    </tr>\n",
       "    <tr>\n",
       "      <th>231988</th>\n",
       "      <td>Loan modification,collection,foreclosure</td>\n",
       "      <td>complaint related previous complaint submitted...</td>\n",
       "    </tr>\n",
       "    <tr>\n",
       "      <th>196805</th>\n",
       "      <td>Incorrect information on your report</td>\n",
       "      <td>opened pay day loan several paid payment requi...</td>\n",
       "    </tr>\n",
       "  </tbody>\n",
       "</table>\n",
       "<p>165914 rows × 2 columns</p>\n",
       "</div>"
      ],
      "text/plain": [
       "                                                    Issue  \\\n",
       "261169              Cont'd attempts collect debt not owed   \n",
       "301378                              Communication tactics   \n",
       "117759               Incorrect information on your report   \n",
       "117694               Incorrect information on your report   \n",
       "123345  Problem with a credit reporting company's inve...   \n",
       "...                                                   ...   \n",
       "122464                              Communication tactics   \n",
       "178959               Incorrect information on your report   \n",
       "345068           Loan modification,collection,foreclosure   \n",
       "231988           Loan modification,collection,foreclosure   \n",
       "196805               Incorrect information on your report   \n",
       "\n",
       "                             Consumer complaint narrative  \n",
       "261169  synchrony collector ge capital harassing via h...  \n",
       "301378  portfolio recovery associates knowingly report...  \n",
       "117759  reporting authorized user account acccount bel...  \n",
       "117694  purchased new fraudulent sales tactics messed ...  \n",
       "123345  credit reporting outlet get information credit...  \n",
       "...                                                   ...  \n",
       "122464  calling workplace everyday days week months ph...  \n",
       "178959  years ago mother contacted chase bank ask auth...  \n",
       "345068  hereby dispute reply suntrust complaint way cf...  \n",
       "231988  complaint related previous complaint submitted...  \n",
       "196805  opened pay day loan several paid payment requi...  \n",
       "\n",
       "[165914 rows x 2 columns]"
      ]
     },
     "execution_count": 19,
     "metadata": {},
     "output_type": "execute_result"
    }
   ],
   "source": [
    "train_df"
   ]
  },
  {
   "cell_type": "code",
   "execution_count": 20,
   "metadata": {},
   "outputs": [
    {
     "name": "stdout",
     "output_type": "stream",
     "text": [
      "Vocabulary:\n",
      "\n",
      "['[UNK]', 'Incorrect information on your report', \"Problem with a credit reporting company's investigation into an existing problem\", 'Incorrect information on credit report', 'Attempts to collect debt not owed', \"Cont'd attempts collect debt not owed\", 'Improper use of your report', 'Loan servicing, payments, escrow account', 'Communication tactics', 'Loan modification,collection,foreclosure']\n"
     ]
    }
   ],
   "source": [
    "terms = tf.ragged.constant(train_df[\"Issue\"].values)\n",
    "lookup = tf.keras.layers.StringLookup(output_mode=\"multi_hot\")\n",
    "lookup.adapt(terms)\n",
    "vocab = lookup.get_vocabulary()\n",
    "\n",
    "\n",
    "def invert_multi_hot(encoded_labels):\n",
    "    \"\"\"Reverse a single multi-hot encoded label to a tuple of vocab terms.\"\"\"\n",
    "    hot_indices = np.argwhere(encoded_labels == 1.0)[..., 0]\n",
    "    return np.take(vocab, hot_indices)\n",
    "\n",
    "\n",
    "print(\"Vocabulary:\\n\")\n",
    "print(vocab)"
   ]
  },
  {
   "cell_type": "code",
   "execution_count": 6,
   "metadata": {},
   "outputs": [],
   "source": [
    "# We one hot encode the Issues"
   ]
  },
  {
   "cell_type": "code",
   "execution_count": 21,
   "metadata": {},
   "outputs": [
    {
     "name": "stdout",
     "output_type": "stream",
     "text": [
      "Original label: Cont'd attempts collect debt not owed\n",
      "Label-binarized representation: [0. 0. 0. 0. 0. 1. 0. 0. 0. 0.]\n"
     ]
    }
   ],
   "source": [
    "sample_label = train_df[\"Issue\"].iloc[0]\n",
    "print(f\"Original label: {sample_label}\")\n",
    "\n",
    "label_binarized = lookup([sample_label])\n",
    "print(f\"Label-binarized representation: {label_binarized}\")"
   ]
  },
  {
   "cell_type": "code",
   "execution_count": 22,
   "metadata": {},
   "outputs": [
    {
     "data": {
      "text/plain": [
       "count    165914.000000\n",
       "mean         71.551822\n",
       "std          77.657214\n",
       "min           1.000000\n",
       "25%          25.000000\n",
       "50%          48.000000\n",
       "75%          90.000000\n",
       "max        2649.000000\n",
       "Name: Consumer complaint narrative, dtype: float64"
      ]
     },
     "execution_count": 22,
     "metadata": {},
     "output_type": "execute_result"
    }
   ],
   "source": [
    "train_df['Consumer complaint narrative'].apply(lambda x: len(x.split(\" \"))).describe()"
   ]
  },
  {
   "cell_type": "code",
   "execution_count": 7,
   "metadata": {},
   "outputs": [],
   "source": [
    "# The average length of a consumer complaint is 71, so we use 75 as the max length for an Issue"
   ]
  },
  {
   "cell_type": "code",
   "execution_count": 23,
   "metadata": {},
   "outputs": [
    {
     "name": "stderr",
     "output_type": "stream",
     "text": [
      "C:\\Users\\yashp\\anaconda3\\lib\\site-packages\\IPython\\core\\interactiveshell.py:3343: SettingWithCopyWarning: \n",
      "A value is trying to be set on a copy of a slice from a DataFrame\n",
      "\n",
      "See the caveats in the documentation: https://pandas.pydata.org/pandas-docs/stable/user_guide/indexing.html#returning-a-view-versus-a-copy\n",
      "  exec(code_obj, self.user_global_ns, self.user_ns)\n"
     ]
    }
   ],
   "source": [
    "for i,j in train_df[\"Issue\"].items():\n",
    "    train_df[\"Issue\"][i] = [train_df[\"Issue\"][i]]\n",
    "for i,j in val_df[\"Issue\"].items():\n",
    "    val_df[\"Issue\"][i] = [val_df[\"Issue\"][i]]\n",
    "for i,j in test_df[\"Issue\"].items():\n",
    "    test_df[\"Issue\"][i] = [test_df[\"Issue\"][i]]"
   ]
  },
  {
   "cell_type": "code",
   "execution_count": 24,
   "metadata": {},
   "outputs": [],
   "source": [
    "max_seqlen = 75\n",
    "batch_size = 128\n",
    "padding_token = \"<pad>\"\n",
    "auto = tf.data.AUTOTUNE\n",
    "\n",
    "\n",
    "def unify_text_length(text, label):\n",
    "    # Split the given abstract and calculate its length.\n",
    "    word_splits = tf.strings.split(text, sep=\" \")\n",
    "    sequence_length = tf.shape(word_splits)[0]\n",
    "\n",
    "    # Calculate the padding amount.\n",
    "    padding_amount = max_seqlen - sequence_length\n",
    "\n",
    "    # Check if we need to pad or truncate.\n",
    "    if padding_amount > 0:\n",
    "        unified_text = tf.pad([text], [[0, padding_amount]], constant_values=\"<pad>\")\n",
    "        unified_text = tf.strings.reduce_join(unified_text, separator=\"\")\n",
    "    else:\n",
    "        unified_text = tf.strings.reduce_join(word_splits[:max_seqlen], separator=\" \")\n",
    "\n",
    "    # The expansion is needed for subsequent vectorization.\n",
    "    return tf.expand_dims(unified_text, -1), label\n",
    "\n",
    "\n",
    "def make_dataset(dataframe, is_train=True):\n",
    "    labels = tf.ragged.constant(dataframe[\"Issue\"].values)\n",
    "    #print(labels)\n",
    "    #print(dataframe[\"topic_category_crude\"].values)\n",
    "    label_binarized = lookup(labels).numpy()\n",
    "    #print(label_binarized)\n",
    "    #print(len(label_binarized))\n",
    "    dataset = tf.data.Dataset.from_tensor_slices(\n",
    "        (dataframe[\"Consumer complaint narrative\"].values, label_binarized)\n",
    "    )\n",
    "    dataset = dataset.shuffle(batch_size * 10) if is_train else dataset\n",
    "    dataset = dataset.map(unify_text_length, num_parallel_calls=auto).cache()\n",
    "    return dataset.batch(batch_size)"
   ]
  },
  {
   "cell_type": "code",
   "execution_count": 25,
   "metadata": {},
   "outputs": [],
   "source": [
    "train_dataset = make_dataset(train_df, is_train=True)\n",
    "validation_dataset = make_dataset(val_df, is_train=False)\n",
    "test_dataset = make_dataset(test_df, is_train=False)"
   ]
  },
  {
   "cell_type": "code",
   "execution_count": 26,
   "metadata": {},
   "outputs": [
    {
     "name": "stdout",
     "output_type": "stream",
     "text": [
      "Abstract: b'made several attempts let equifax consumer reporting bureau know items credit repot mine yet continue report inaccurate items report ie addresses accounts<pad><pad><pad><pad><pad><pad><pad><pad><pad><pad><pad><pad><pad><pad><pad><pad><pad><pad><pad><pad><pad><pad><pad><pad><pad><pad><pad><pad><pad><pad><pad><pad><pad><pad><pad><pad><pad><pad><pad><pad><pad><pad><pad><pad><pad><pad><pad><pad><pad><pad><pad><pad><pad>'\n",
      "Label(s): [\"Problem with a credit reporting company's investigation into an existing problem\"]\n",
      " \n",
      "Abstract: b'discharged alleged debt maryland state comptroller sending several negotiable instruments according ucc debt says tender payment obligation pay instrument made person entitled enforce instrument tender refused discharge pmy letters asking pertinent information would answer according fair credit reporting act section usc gj also asked original contract original signature along buying debt pennies dollar maryland state comptroller alleged debt bought became reduced possible ptherefore filing complaint agency penn credit pa<pad><pad><pad><pad><pad><pad>'\n",
      "Label(s): ['Attempts to collect debt not owed']\n",
      " \n",
      "Abstract: b'ability recovery services trying collect debt schools owe previously sent complaint indicated wrong person deleted marks credit however ability recovery services gone around phone last person spoke named said right across street would pay reduced amount would remove credit told told representatives company went one time sudden two different collection agencies saying owe school fraud claim someone signs classes tries charge people entire amount program anyone collection agencies submit complaint<pad><pad><pad><pad><pad>'\n",
      "Label(s): ['Attempts to collect debt not owed']\n",
      " \n",
      "Abstract: b'recently applied credit review credit report entry alpine credit identified active unpaid patently false documentation prove claim form payment receipt confirmation alpine debt paid full back along guarantee debt would removed credit reports<pad><pad><pad><pad><pad><pad><pad><pad><pad><pad><pad><pad><pad><pad><pad><pad><pad><pad><pad><pad><pad><pad><pad><pad><pad><pad><pad><pad><pad><pad><pad><pad><pad><pad><pad><pad><pad><pad><pad><pad><pad><pad>'\n",
      "Label(s): [\"Cont'd attempts collect debt not owed\"]\n",
      " \n",
      "Abstract: b'acquired second mortgage never notified acquisition resulting day late payment claim sent notification mail physical address never received also confirmed later two phone numbers email address still active options contact made attempt account years old never late payment despite transferred times mortgage companies previously negligence credit report extremely systematic unfair reporting practice<pad><pad><pad><pad><pad><pad><pad><pad><pad><pad><pad><pad><pad><pad><pad><pad><pad><pad><pad><pad><pad><pad><pad>'\n",
      "Label(s): [\"Problem with a credit reporting company's investigation into an existing problem\"]\n",
      " \n"
     ]
    }
   ],
   "source": [
    "text_batch, label_batch = next(iter(train_dataset))\n",
    "\n",
    "for i, text in enumerate(text_batch[:5]):\n",
    "    label = label_batch[i].numpy()[None, ...]\n",
    "    print(f\"Abstract: {text[0]}\")\n",
    "    print(f\"Label(s): {invert_multi_hot(label[0])}\")\n",
    "    print(\" \")"
   ]
  },
  {
   "cell_type": "code",
   "execution_count": 27,
   "metadata": {},
   "outputs": [
    {
     "name": "stdout",
     "output_type": "stream",
     "text": [
      "Vocabulary size: 2649\n"
     ]
    },
    {
     "name": "stderr",
     "output_type": "stream",
     "text": [
      "<ipython-input-27-5bdfbbb078a8>:1: SettingWithCopyWarning: \n",
      "A value is trying to be set on a copy of a slice from a DataFrame.\n",
      "Try using .loc[row_indexer,col_indexer] = value instead\n",
      "\n",
      "See the caveats in the documentation: https://pandas.pydata.org/pandas-docs/stable/user_guide/indexing.html#returning-a-view-versus-a-copy\n",
      "  train_df[\"total_words\"] = train_df[\"Consumer complaint narrative\"].str.split().str.len()\n"
     ]
    }
   ],
   "source": [
    "train_df[\"total_words\"] = train_df[\"Consumer complaint narrative\"].str.split().str.len()\n",
    "vocabulary_size = train_df[\"total_words\"].max()\n",
    "print(f\"Vocabulary size: {vocabulary_size}\")"
   ]
  },
  {
   "cell_type": "code",
   "execution_count": 28,
   "metadata": {},
   "outputs": [],
   "source": [
    "text_vectorizer = layers.TextVectorization(\n",
    "    max_tokens=vocabulary_size, ngrams=2, output_mode=\"tf_idf\")\n",
    "\n",
    "with tf.device(\"/CPU:0\"):\n",
    "    text_vectorizer.adapt(train_dataset.map(lambda text, label: text))\n",
    "\n",
    "train_dataset = train_dataset.map(lambda text, label: (text_vectorizer(text), label), num_parallel_calls=auto).prefetch(auto)\n",
    "validation_dataset = validation_dataset.map(lambda text, label: (text_vectorizer(text), label), num_parallel_calls=auto).prefetch(auto)\n",
    "test_dataset = test_dataset.map(lambda text, label: (text_vectorizer(text), label), num_parallel_calls=auto).prefetch(auto)"
   ]
  },
  {
   "cell_type": "code",
   "execution_count": 9,
   "metadata": {},
   "outputs": [],
   "source": [
    "# Using tf_idf we get to know the frequency of a word in the dataset"
   ]
  },
  {
   "cell_type": "code",
   "execution_count": 71,
   "metadata": {},
   "outputs": [],
   "source": [
    "def make_model():\n",
    "    shallow_mlp_model = keras.Sequential(\n",
    "        [\n",
    "            layers.Dense(512, activation=\"relu\"),\n",
    "            layers.Dropout(.5),\n",
    "            layers.Dense(256, activation=\"relu\"),\n",
    "            layers.Dropout(.5),\n",
    "            layers.Dense(lookup.vocabulary_size(), activation=\"sigmoid\"),\n",
    "        ]\n",
    "    )\n",
    "    return shallow_mlp_model"
   ]
  },
  {
   "cell_type": "code",
   "execution_count": 8,
   "metadata": {},
   "outputs": [],
   "source": [
    "# This is the structure of our final model"
   ]
  },
  {
   "cell_type": "code",
   "execution_count": 72,
   "metadata": {},
   "outputs": [
    {
     "name": "stdout",
     "output_type": "stream",
     "text": [
      "Epoch 1/20\n",
      "1297/1297 [==============================] - 29s 22ms/step - loss: 0.2328 - categorical_accuracy: 0.5086 - val_loss: 0.1705 - val_categorical_accuracy: 0.6039\n",
      "Epoch 2/20\n",
      "1297/1297 [==============================] - 27s 21ms/step - loss: 0.1754 - categorical_accuracy: 0.5987 - val_loss: 0.1615 - val_categorical_accuracy: 0.6235\n",
      "Epoch 3/20\n",
      "1297/1297 [==============================] - 26s 20ms/step - loss: 0.1624 - categorical_accuracy: 0.6312 - val_loss: 0.1557 - val_categorical_accuracy: 0.6379\n",
      "Epoch 4/20\n",
      "1297/1297 [==============================] - 25s 19ms/step - loss: 0.1506 - categorical_accuracy: 0.6628 - val_loss: 0.1516 - val_categorical_accuracy: 0.6520\n",
      "Epoch 5/20\n",
      "1297/1297 [==============================] - 25s 19ms/step - loss: 0.1398 - categorical_accuracy: 0.6937 - val_loss: 0.1492 - val_categorical_accuracy: 0.6629\n",
      "Epoch 6/20\n",
      "1297/1297 [==============================] - 25s 19ms/step - loss: 0.1303 - categorical_accuracy: 0.7188 - val_loss: 0.1452 - val_categorical_accuracy: 0.6790\n",
      "Epoch 7/20\n",
      "1297/1297 [==============================] - 25s 19ms/step - loss: 0.1213 - categorical_accuracy: 0.7428 - val_loss: 0.1443 - val_categorical_accuracy: 0.6845\n",
      "Epoch 8/20\n",
      "1297/1297 [==============================] - 25s 19ms/step - loss: 0.1143 - categorical_accuracy: 0.7604 - val_loss: 0.1437 - val_categorical_accuracy: 0.6959\n",
      "Epoch 9/20\n",
      "1297/1297 [==============================] - 25s 19ms/step - loss: 0.1075 - categorical_accuracy: 0.7773 - val_loss: 0.1435 - val_categorical_accuracy: 0.6990\n",
      "Epoch 10/20\n",
      "1297/1297 [==============================] - 24s 19ms/step - loss: 0.1027 - categorical_accuracy: 0.7887 - val_loss: 0.1425 - val_categorical_accuracy: 0.7018\n",
      "Epoch 11/20\n",
      "1297/1297 [==============================] - 24s 19ms/step - loss: 0.0976 - categorical_accuracy: 0.8011 - val_loss: 0.1445 - val_categorical_accuracy: 0.7056\n",
      "Epoch 12/20\n",
      "1297/1297 [==============================] - 25s 19ms/step - loss: 0.0930 - categorical_accuracy: 0.8127 - val_loss: 0.1446 - val_categorical_accuracy: 0.7115\n",
      "Epoch 13/20\n",
      "1297/1297 [==============================] - 25s 19ms/step - loss: 0.0895 - categorical_accuracy: 0.8204 - val_loss: 0.1454 - val_categorical_accuracy: 0.7150\n",
      "Epoch 14/20\n",
      "1297/1297 [==============================] - 25s 19ms/step - loss: 0.0861 - categorical_accuracy: 0.8284 - val_loss: 0.1455 - val_categorical_accuracy: 0.7135\n",
      "Epoch 15/20\n",
      "1297/1297 [==============================] - 25s 19ms/step - loss: 0.0829 - categorical_accuracy: 0.8359 - val_loss: 0.1472 - val_categorical_accuracy: 0.7143\n",
      "Epoch 16/20\n",
      "1297/1297 [==============================] - 25s 19ms/step - loss: 0.0802 - categorical_accuracy: 0.8417 - val_loss: 0.1508 - val_categorical_accuracy: 0.7162\n",
      "Epoch 17/20\n",
      "1297/1297 [==============================] - 25s 19ms/step - loss: 0.0770 - categorical_accuracy: 0.8490 - val_loss: 0.1523 - val_categorical_accuracy: 0.7207\n",
      "Epoch 18/20\n",
      "1297/1297 [==============================] - 25s 19ms/step - loss: 0.0756 - categorical_accuracy: 0.8527 - val_loss: 0.1532 - val_categorical_accuracy: 0.7214\n",
      "Epoch 19/20\n",
      "1297/1297 [==============================] - 25s 20ms/step - loss: 0.0730 - categorical_accuracy: 0.8589 - val_loss: 0.1548 - val_categorical_accuracy: 0.7189\n",
      "Epoch 20/20\n",
      "1297/1297 [==============================] - 24s 19ms/step - loss: 0.0714 - categorical_accuracy: 0.8624 - val_loss: 0.1578 - val_categorical_accuracy: 0.7226\n"
     ]
    },
    {
     "data": {
      "image/png": "[encoded data removed]",
      "text/plain": [
       "<Figure size 432x288 with 1 Axes>"
      ]
     },
     "metadata": {
      "needs_background": "light"
     },
     "output_type": "display_data"
    },
    {
     "data": {
      "image/png": "[encoded data removed]",
      "text/plain": [
       "<Figure size 432x288 with 1 Axes>"
      ]
     },
     "metadata": {
      "needs_background": "light"
     },
     "output_type": "display_data"
    }
   ],
   "source": [
    "epochs = 20\n",
    "\n",
    "shallow_mlp_model = make_model()\n",
    "shallow_mlp_model.compile(\n",
    "    loss=\"binary_crossentropy\", optimizer=\"adam\", metrics=[\"categorical_accuracy\"]\n",
    ")\n",
    "\n",
    "history = shallow_mlp_model.fit(\n",
    "    train_dataset, validation_data=validation_dataset, epochs=epochs\n",
    ")\n",
    "\n",
    "\n",
    "def plot_result(item):\n",
    "    plt.plot(history.history[item], label=item)\n",
    "    plt.plot(history.history[\"val_\" + item], label=\"val_\" + item)\n",
    "    plt.xlabel(\"Epochs\")\n",
    "    plt.ylabel(item)\n",
    "    plt.title(\"Train and Validation {} Over Epochs\".format(item), fontsize=14)\n",
    "    plt.legend()\n",
    "    plt.grid()\n",
    "    #plt.savefig('nn.png')\n",
    "    #plt.show()\n",
    "    \n",
    "                \n",
    "\n",
    "plot_result(\"loss\")\n",
    "plt.savefig('nn.png')\n",
    "plt.show()\n",
    "plot_result(\"categorical_accuracy\")\n",
    "plt.savefig('nn1.png')\n",
    "plt.show()"
   ]
  },
  {
   "cell_type": "code",
   "execution_count": 74,
   "metadata": {},
   "outputs": [
    {
     "name": "stdout",
     "output_type": "stream",
     "text": [
      "73/73 [==============================] - 1s 11ms/step - loss: 0.1665 - categorical_accuracy: 0.7089\n",
      "Categorical accuracy on the test set: 70.89%.\n"
     ]
    }
   ],
   "source": [
    "_, categorical_acc = shallow_mlp_model.evaluate(test_dataset)\n",
    "print(f\"Categorical accuracy on the test set: {round(categorical_acc * 100, 2)}%.\")"
   ]
  },
  {
   "cell_type": "code",
   "execution_count": 75,
   "metadata": {},
   "outputs": [
    {
     "name": "stdout",
     "output_type": "stream",
     "text": [
      "Model: \"sequential_17\"\n",
      "_________________________________________________________________\n",
      " Layer (type)                Output Shape              Param #   \n",
      "=================================================================\n",
      " dense_52 (Dense)            (None, 512)               1356800   \n",
      "                                                                 \n",
      " dropout_19 (Dropout)        (None, 512)               0         \n",
      "                                                                 \n",
      " dense_53 (Dense)            (None, 256)               131328    \n",
      "                                                                 \n",
      " dropout_20 (Dropout)        (None, 256)               0         \n",
      "                                                                 \n",
      " dense_54 (Dense)            (None, 10)                2570      \n",
      "                                                                 \n",
      "=================================================================\n",
      "Total params: 1,490,698\n",
      "Trainable params: 1,490,698\n",
      "Non-trainable params: 0\n",
      "_________________________________________________________________\n"
     ]
    }
   ],
   "source": [
    "shallow_mlp_model.summary()"
   ]
  },
  {
   "cell_type": "code",
   "execution_count": 52,
   "metadata": {},
   "outputs": [],
   "source": [
    "# referenced from https://keras.io/examples/nlp/multi_label_classification/"
   ]
  },
  {
   "cell_type": "code",
   "execution_count": null,
   "metadata": {},
   "outputs": [],
   "source": []
  }
 ],
 "metadata": {
  "kernelspec": {
   "display_name": "Python 3 (ipykernel)",
   "language": "python",
   "name": "python3"
  },
  "language_info": {
   "codemirror_mode": {
    "name": "ipython",
    "version": 3
   },
   "file_extension": ".py",
   "mimetype": "text/x-python",
   "name": "python",
   "nbconvert_exporter": "python",
   "pygments_lexer": "ipython3",
   "version": "3.9.12"
  }
 },
 "nbformat": 4,
 "nbformat_minor": 4
}
